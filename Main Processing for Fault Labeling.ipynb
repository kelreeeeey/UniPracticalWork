{
 "cells": [
  {
   "attachments": {},
   "cell_type": "markdown",
   "metadata": {},
   "source": [
    "# Import Libraries"
   ]
  },
  {
   "cell_type": "code",
   "execution_count": 1,
   "metadata": {},
   "outputs": [],
   "source": [
    "import fatbox\n",
    "import numpy as np \n",
    "import networkx as nx\n",
    "import pickle\n",
    "import cv2\n",
    "from PIL import Image\n",
    "from tqdm import tqdm\n",
    "\n",
    "import matplotlib.pyplot as plt\n",
    "from mpl_toolkits.axes_grid1 import make_axes_locatable\n",
    "from matplotlib.colors import ListedColormap\n",
    "from scipy.spatial import distance_matrix\n",
    "from skimage import feature, morphology, filters\n",
    "from sklearn.preprocessing import normalize\n",
    "\n",
    "from sys import stdout\n",
    "\n",
    "from fatbox.preprocessing import *\n",
    "from fatbox.metrics import *\n",
    "from fatbox.edits import *\n",
    "from fatbox.plots import *"
   ]
  },
  {
   "attachments": {},
   "cell_type": "markdown",
   "metadata": {},
   "source": [
    "# Processing"
   ]
  },
  {
   "attachments": {},
   "cell_type": "markdown",
   "metadata": {},
   "source": [
    "## Workflow\n",
    "1. Open image data as \n",
    "2. normalization\n",
    "3. smoothing, add gaussian blur\n",
    "4. binarization, threshold\n",
    "5. skeletonizing\n",
    "6. removing smaal regions\n",
    "7. connecting the components\n",
    "8. make empty nx.Graph, defines point, add the 'pos' and 'components'\n",
    "9. add edge\n",
    "10. (iterative) split triple juction & Labeling components, removing \n",
    "12. Compute edge length\n",
    "13. calculate strike\n",
    "14. comp_to_fault \n",
    "15. convert to json and store to somtehin else\n",
    "16. add inline number to ['pos][x] and make point[1] and point[0] as y and z\n",
    "17. get node colors, and get node attributes\n",
    "18. extraxt x,y,z coordinate and store them to an np.array\n",
    "19. plot in 3d projection (beware of the nodes color, prefer in one color)"
   ]
  },
  {
   "attachments": {},
   "cell_type": "markdown",
   "metadata": {},
   "source": [
    "## Make the fuunction"
   ]
  },
  {
   "cell_type": "code",
   "execution_count": null,
   "metadata": {},
   "outputs": [],
   "source": [
    "def processing_full():\n",
    "\n",
    "    # 1. open the data\n",
    "    \"\"\"can use iterative function on a list\n",
    "    containt files and store them to an object\"\"\"\n",
    "\n",
    "    \n",
    "\n",
    "    # return json file sek\n",
    "    return none"
   ]
  }
 ],
 "metadata": {
  "kernelspec": {
   "display_name": "fatbox",
   "language": "python",
   "name": "python3"
  },
  "language_info": {
   "codemirror_mode": {
    "name": "ipython",
    "version": 3
   },
   "file_extension": ".py",
   "mimetype": "text/x-python",
   "name": "python",
   "nbconvert_exporter": "python",
   "pygments_lexer": "ipython3",
   "version": "3.10.10"
  },
  "orig_nbformat": 4,
  "vscode": {
   "interpreter": {
    "hash": "a9c21a374ee8ec66b22c40f3c5bacee7f7f1c5f080153482ff8bd8f5b46d2c82"
   }
  }
 },
 "nbformat": 4,
 "nbformat_minor": 2
}
